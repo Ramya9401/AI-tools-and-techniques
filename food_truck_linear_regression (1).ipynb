{
 "cells": [
  {
   "cell_type": "markdown",
   "metadata": {},
   "source": [
    "#**food truck profit predict**"
   ]
  },
  {
   "cell_type": "code",
   "execution_count": 1,
   "metadata": {},
   "outputs": [],
   "source": [
    "import numpy as np\n",
    "from matplotlib import pyplot as plt\n",
    "from sklearn.linear_model import LinearRegression\n",
    "import pandas as pd"
   ]
  },
  {
   "cell_type": "code",
   "execution_count": 2,
   "metadata": {},
   "outputs": [
    {
     "data": {
      "text/plain": [
       "(97, 2)"
      ]
     },
     "execution_count": 2,
     "metadata": {},
     "output_type": "execute_result"
    }
   ],
   "source": [
    "#loading dataset\n",
    "\n",
    "data=pd.read_csv(\"profitdataset.txt\")\n",
    "data.shape"
   ]
  },
  {
   "cell_type": "code",
   "execution_count": 5,
   "metadata": {},
   "outputs": [],
   "source": [
    "x=data[['population']].values\n",
    "y=data[['profit']].values"
   ]
  },
  {
   "cell_type": "code",
   "execution_count": 7,
   "metadata": {},
   "outputs": [
    {
     "data": {
      "image/png": "[encoded data removed]",
      "text/plain": [
       "<Figure size 432x288 with 1 Axes>"
      ]
     },
     "metadata": {
      "needs_background": "light"
     },
     "output_type": "display_data"
    }
   ],
   "source": [
    "plt.scatter(x,y,c='r',label='original data',marker='x')\n",
    "plt.xlabel(\"population\")\n",
    "plt.ylabel(\"profit\")\n",
    "plt.title('profit_predict')\n",
    "plt.legend()\n",
    "plt.show()"
   ]
  },
  {
   "cell_type": "code",
   "execution_count": 8,
   "metadata": {},
   "outputs": [],
   "source": [
    "k=LinearRegression()\n"
   ]
  },
  {
   "cell_type": "code",
   "execution_count": 9,
   "metadata": {},
   "outputs": [
    {
     "data": {
      "text/plain": [
       "LinearRegression(copy_X=True, fit_intercept=True, n_jobs=None, normalize=False)"
      ]
     },
     "execution_count": 9,
     "metadata": {},
     "output_type": "execute_result"
    }
   ],
   "source": [
    "k.fit(x,y) #load data"
   ]
  },
  {
   "cell_type": "code",
   "execution_count": 10,
   "metadata": {},
   "outputs": [
    {
     "name": "stdout",
     "output_type": "stream",
     "text": [
      "n value: [[1.19303364]]\n"
     ]
    }
   ],
   "source": [
    "print('n value:',k.coef_)\n"
   ]
  },
  {
   "cell_type": "code",
   "execution_count": 12,
   "metadata": {},
   "outputs": [
    {
     "name": "stdout",
     "output_type": "stream",
     "text": [
      "c value: [-3.89578088]\n"
     ]
    }
   ],
   "source": [
    "print('c value:',k.intercept_)"
   ]
  },
  {
   "cell_type": "code",
   "execution_count": 13,
   "metadata": {},
   "outputs": [],
   "source": [
    "y_pred=k.predict(x)"
   ]
  },
  {
   "cell_type": "code",
   "execution_count": 16,
   "metadata": {},
   "outputs": [
    {
     "data": {
      "text/plain": [
       "array([[ 3.39377399,  2.6989512 ,  6.26719552,  4.45927234,  3.09515767,\n",
       "         6.10530086,  5.02381586,  6.33818102,  3.84247394,  2.13452698,\n",
       "         2.91727635, 13.00234766,  2.94507404,  6.13572322,  2.833764  ,\n",
       "         2.52202431,  3.69835548,  2.22460102,  3.77494824,  4.53992141,\n",
       "         3.48802365, 20.28701109,  2.65409313,  3.65146926,  2.74333205,\n",
       "        18.70624151, 11.40845471,  9.17628876, 11.82363042, 22.59314512,\n",
       "         2.37050903,  3.96559502,  7.13763287,  3.13333475,  5.90033768,\n",
       "         5.56903223,  5.7629002 ,  2.79272364, 11.41799898,  3.68403908,\n",
       "         2.55483273,  4.31527318, 10.07225703,  2.99243747,  5.43934948,\n",
       "         4.56652606,  2.1531383 ,  3.02548451, 10.06271276,  2.71553436,\n",
       "         5.09993141,  2.43648379,  4.96118159,  5.17497322,  3.65946258,\n",
       "         3.69060076,  3.58955081,  2.83257096,  7.21160096,  7.38268198,\n",
       "         6.63321825,  2.28329828, 21.49078204, 13.88996469, 18.72294398,\n",
       "         4.71577457,  6.0005525 ,  8.3161115 ,  2.66518834, 20.37171648,\n",
       "         8.19680814,  4.85452438,  3.2698178 ,  4.72496093,  2.10147995,\n",
       "         3.91608412,  5.09802255,  2.11293307,  8.36144678,  2.19787707,\n",
       "         2.93934748,  2.29415488,  3.68678305,  7.75860688,  3.87790704,\n",
       "         6.26552528,  7.05650658,  3.26480705,  2.69024205,  2.14025354,\n",
       "         2.91369725,  5.21493985,  3.10816174,  2.43373982,  5.99852435,\n",
       "        12.08371175,  2.59062374]])"
      ]
     },
     "execution_count": 16,
     "metadata": {},
     "output_type": "execute_result"
    }
   ],
   "source": [
    "y_pred.reshape(1,97)"
   ]
  },
  {
   "cell_type": "code",
   "execution_count": 17,
   "metadata": {},
   "outputs": [
    {
     "data": {
      "image/png": "[encoded data removed]",
      "text/plain": [
       "<Figure size 432x288 with 1 Axes>"
      ]
     },
     "metadata": {
      "needs_background": "light"
     },
     "output_type": "display_data"
    }
   ],
   "source": [
    "plt.scatter(x,y,label='original data',c='r')\n",
    "plt.plot(x,y_pred,c='b',label='predicted data')\n",
    "plt.title(\"food profit predict \")\n",
    "plt.xlabel(\"population\")\n",
    "plt.ylabel(\"profit\")\n",
    "plt.legend()\n",
    "plt.show()"
   ]
  },
  {
   "cell_type": "code",
   "execution_count": 18,
   "metadata": {},
   "outputs": [
    {
     "data": {
      "text/plain": [
       "0.7020315537841397"
      ]
     },
     "execution_count": 18,
     "metadata": {},
     "output_type": "execute_result"
    }
   ],
   "source": [
    "# how good fit our model r2 sqare\n",
    "from sklearn.metrics import r2_score\n",
    "r=r2_score(y,y_pred)\n",
    "r"
   ]
  },
  {
   "cell_type": "code",
   "execution_count": 20,
   "metadata": {},
   "outputs": [
    {
     "data": {
      "text/plain": [
       "8.953942751950358"
      ]
     },
     "execution_count": 20,
     "metadata": {},
     "output_type": "execute_result"
    }
   ],
   "source": [
    "# cost function\n",
    "from sklearn.metrics import mean_squared_error\n",
    "cost=mean_squared_error(y,y_pred)\n",
    "cost"
   ]
  },
  {
   "cell_type": "code",
   "execution_count": 21,
   "metadata": {},
   "outputs": [
    {
     "name": "stdout",
     "output_type": "stream",
     "text": [
      "profit from 45000 people city is [[14728.70520541]] $\n",
      "profit from 65000 people city is [[38589.37808921]] $\n"
     ]
    }
   ],
   "source": [
    "# predict profit for the new line 45000 1nd 65000 people\n",
    "n1=4.5\n",
    "n2=6.5\n",
    "print(\"profit from 45000 people city is\",k.predict([[n1]])*10000,'$')\n",
    "print(\"profit from 65000 people city is\", k.predict([[n2]])*10000,'$')"
   ]
  },
  {
   "cell_type": "code",
   "execution_count": null,
   "metadata": {},
   "outputs": [],
   "source": []
  }
 ],
 "metadata": {
  "kernelspec": {
   "display_name": "Python 3",
   "language": "python",
   "name": "python3"
  },
  "language_info": {
   "codemirror_mode": {
    "name": "ipython",
    "version": 3
   },
   "file_extension": ".py",
   "mimetype": "text/x-python",
   "name": "python",
   "nbconvert_exporter": "python",
   "pygments_lexer": "ipython3",
   "version": "3.7.4"
  }
 },
 "nbformat": 4,
 "nbformat_minor": 2
}
