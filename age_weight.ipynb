{
 "cells": [
  {
   "cell_type": "code",
   "execution_count": 1,
   "metadata": {},
   "outputs": [],
   "source": [
    "import numpy as np"
   ]
  },
  {
   "cell_type": "code",
   "execution_count": 2,
   "metadata": {},
   "outputs": [],
   "source": [
    "from matplotlib import pyplot as plt"
   ]
  },
  {
   "cell_type": "code",
   "execution_count": 3,
   "metadata": {},
   "outputs": [
    {
     "data": {
      "image/png": "[encoded data removed]",
      "text/plain": [
       "<Figure size 432x288 with 1 Axes>"
      ]
     },
     "metadata": {
      "needs_background": "light"
     },
     "output_type": "display_data"
    }
   ],
   "source": [
    "x=np.array([5,6,7,8,9,10])\n",
    "y=np.array([18,20,22,25,28,32])\n",
    "plt.scatter(x,y,40,color='r',label='scatter_data',marker='x')\n",
    "plt.xlabel(\"age\")\n",
    "plt.ylabel(\"weight\")\n",
    "plt.title(\"age_weight_prediction\")\n",
    "plt.grid(True,color='k')\n",
    "plt.show()"
   ]
  },
  {
   "cell_type": "code",
   "execution_count": 7,
   "metadata": {},
   "outputs": [
    {
     "name": "stdout",
     "output_type": "stream",
     "text": [
      "7.5\n"
     ]
    }
   ],
   "source": [
    "#mean_values\n",
    "mean_x=np.mean(x)\n",
    "mean_y=np.mean(y)\n",
    "n=len(x)\n",
    "print(mean_x)"
   ]
  },
  {
   "cell_type": "code",
   "execution_count": 8,
   "metadata": {},
   "outputs": [
    {
     "data": {
      "text/plain": [
       "24.166666666666668"
      ]
     },
     "execution_count": 8,
     "metadata": {},
     "output_type": "execute_result"
    }
   ],
   "source": [
    "mean_y"
   ]
  },
  {
   "cell_type": "code",
   "execution_count": 9,
   "metadata": {},
   "outputs": [
    {
     "name": "stdout",
     "output_type": "stream",
     "text": [
      "2.7714285714285714\n"
     ]
    }
   ],
   "source": [
    "#to get values for m and c\n",
    "num=0\n",
    "den=0\n",
    "for i in range(n):\n",
    "    num=num+((x[i]-mean_x)*(y[i]-mean_y))\n",
    "    den=den+((x[i]-mean_x)**2)\n",
    "m=num/den\n",
    "print(m)"
   ]
  },
  {
   "cell_type": "code",
   "execution_count": 10,
   "metadata": {},
   "outputs": [
    {
     "name": "stdout",
     "output_type": "stream",
     "text": [
      "3.380952380952383\n"
     ]
    }
   ],
   "source": [
    "#to find c value\n",
    "c=mean_y-(m*mean_x)\n",
    "print(c)"
   ]
  },
  {
   "cell_type": "code",
   "execution_count": 14,
   "metadata": {},
   "outputs": [
    {
     "name": "stdout",
     "output_type": "stream",
     "text": [
      "[17.23809524 20.00952381 22.78095238 25.55238095 28.32380952 31.0952381 ]\n"
     ]
    }
   ],
   "source": [
    "#caluculate y prediction\n",
    "y_pred=np.array([])\n",
    "for i in range(n):\n",
    "    p=(m*x[i])+c\n",
    "    y_pred=np.append(y_pred,np.array([p]),axis=0)\n",
    "print(y_pred)"
   ]
  },
  {
   "cell_type": "code",
   "execution_count": 20,
   "metadata": {},
   "outputs": [
    {
     "data": {
      "image/png": "[encoded data removed]",
      "text/plain": [
       "<Figure size 432x288 with 1 Axes>"
      ]
     },
     "metadata": {
      "needs_background": "light"
     },
     "output_type": "display_data"
    }
   ],
   "source": [
    "#plot the regression line-predicted data\n",
    "plt.plot(x,y_pred,color='g',label=\"regression_line\")\n",
    "#to plot actual data\n",
    "plt.scatter(x,y,40,color='m',label=\"actual_data\",marker='*')\n",
    "plt.scatter(x,y_pred,40,color='r',label=\"predicted data\",marker='*')\n",
    "plt.xlabel(\"age\")\n",
    "plt.ylabel(\"weight\")\n",
    "plt.legend()\n",
    "plt.show()"
   ]
  },
  {
   "cell_type": "code",
   "execution_count": 21,
   "metadata": {},
   "outputs": [
    {
     "name": "stdout",
     "output_type": "stream",
     "text": [
      "0.9823212110666434\n"
     ]
    }
   ],
   "source": [
    "#r square method\n",
    "nu=0\n",
    "de=0\n",
    "for i in range(n):\n",
    "    nu=nu+((y_pred[i]-mean_y)**2)\n",
    "    de=de+((y[i]-mean_y)**2)\n",
    "r2=nu/de\n",
    "print(r2)"
   ]
  },
  {
   "cell_type": "code",
   "execution_count": null,
   "metadata": {},
   "outputs": [],
   "source": []
  }
 ],
 "metadata": {
  "kernelspec": {
   "display_name": "Python 3",
   "language": "python",
   "name": "python3"
  },
  "language_info": {
   "codemirror_mode": {
    "name": "ipython",
    "version": 3
   },
   "file_extension": ".py",
   "mimetype": "text/x-python",
   "name": "python",
   "nbconvert_exporter": "python",
   "pygments_lexer": "ipython3",
   "version": "3.7.4"
  }
 },
 "nbformat": 4,
 "nbformat_minor": 2
}
